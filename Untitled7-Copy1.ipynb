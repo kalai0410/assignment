{
 "cells": [
  {
   "cell_type": "markdown",
   "id": "372ec123",
   "metadata": {},
   "source": [
    "# My Jupyter Notebook on IBM Watson Studio"
   ]
  },
  {
   "cell_type": "markdown",
   "id": "e34abe44",
   "metadata": {},
   "source": [
    "### komalikan"
   ]
  },
  {
   "cell_type": "markdown",
   "id": "7c75b9ec",
   "metadata": {},
   "source": [
    "my pro"
   ]
  },
  {
   "cell_type": "markdown",
   "id": "8c3fd9be",
   "metadata": {},
   "source": [
    "hi lords"
   ]
  },
  {
   "cell_type": "markdown",
   "id": "7e740374",
   "metadata": {},
   "source": [
    "5 markdown cell ok"
   ]
  },
  {
   "cell_type": "code",
   "execution_count": 1,
   "id": "8b52f759",
   "metadata": {},
   "outputs": [
    {
     "name": "stdout",
     "output_type": "stream",
     "text": [
      "hello world\n"
     ]
    }
   ],
   "source": [
    "print('hello world')"
   ]
  },
  {
   "cell_type": "code",
   "execution_count": null,
   "id": "38db1b9f",
   "metadata": {},
   "outputs": [],
   "source": []
  }
 ],
 "metadata": {
  "kernelspec": {
   "display_name": "Python 3 (ipykernel)",
   "language": "python",
   "name": "python3"
  },
  "language_info": {
   "codemirror_mode": {
    "name": "ipython",
    "version": 3
   },
   "file_extension": ".py",
   "mimetype": "text/x-python",
   "name": "python",
   "nbconvert_exporter": "python",
   "pygments_lexer": "ipython3",
   "version": "3.9.12"
  }
 },
 "nbformat": 4,
 "nbformat_minor": 5
}
